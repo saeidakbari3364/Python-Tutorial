{
 "cells": [
  {
   "cell_type": "markdown",
   "id": "a7e8d6bd",
   "metadata": {},
   "source": [
    "# Define Class and Object"
   ]
  },
  {
   "cell_type": "code",
   "execution_count": 1,
   "id": "e926f3ec",
   "metadata": {},
   "outputs": [],
   "source": [
    "class Employee():\n",
    "    name=None\n",
    "    salary=None\n",
    "    address=None\n"
   ]
  },
  {
   "cell_type": "code",
   "execution_count": 2,
   "id": "87ce678f",
   "metadata": {},
   "outputs": [],
   "source": [
    "x=Employee()"
   ]
  },
  {
   "cell_type": "code",
   "execution_count": 3,
   "id": "73c86afb",
   "metadata": {},
   "outputs": [],
   "source": [
    "x.name='saeid'\n",
    "x.salary=100\n",
    "x.address='Brjn'"
   ]
  },
  {
   "cell_type": "code",
   "execution_count": 4,
   "id": "0004624c",
   "metadata": {},
   "outputs": [
    {
     "name": "stdout",
     "output_type": "stream",
     "text": [
      "Brjn\n"
     ]
    }
   ],
   "source": [
    "print(x.address)"
   ]
  },
  {
   "cell_type": "code",
   "execution_count": 5,
   "id": "b815d43e",
   "metadata": {},
   "outputs": [],
   "source": [
    "#Methods"
   ]
  },
  {
   "cell_type": "code",
   "execution_count": 6,
   "id": "6fe06b41",
   "metadata": {},
   "outputs": [],
   "source": [
    "class emp():\n",
    "    name=None\n",
    "    salary=None\n",
    "    address=None\n",
    "    \n",
    "    def print_emp(object):\n",
    "        print(object.name)\n",
    "        print(object.salary)\n",
    "        print(object.address)"
   ]
  },
  {
   "cell_type": "code",
   "execution_count": 7,
   "id": "5824153b",
   "metadata": {},
   "outputs": [],
   "source": [
    "y=emp()"
   ]
  },
  {
   "cell_type": "code",
   "execution_count": 8,
   "id": "a5c659b4",
   "metadata": {},
   "outputs": [],
   "source": [
    "y.name='test'\n",
    "y.salary=1000\n",
    "y.address=\"test2\""
   ]
  },
  {
   "cell_type": "code",
   "execution_count": 9,
   "id": "646cac56",
   "metadata": {},
   "outputs": [
    {
     "name": "stdout",
     "output_type": "stream",
     "text": [
      "test\n",
      "1000\n",
      "test2\n"
     ]
    }
   ],
   "source": [
    "y.print_emp()"
   ]
  },
  {
   "cell_type": "code",
   "execution_count": 11,
   "id": "9328c4c9",
   "metadata": {},
   "outputs": [],
   "source": [
    "#define a class with 2 method read and print"
   ]
  },
  {
   "cell_type": "code",
   "execution_count": 19,
   "id": "8b3aed17",
   "metadata": {},
   "outputs": [],
   "source": [
    "class emp2():\n",
    "    name=None\n",
    "    salary=None\n",
    "    address=None\n",
    "    \n",
    "    def print_emp2(self):\n",
    "        print(\"Employee name: \",self.name)\n",
    "        print(\"Employee name: \",self.salary)\n",
    "        print(\"Employee name: \",self.address)\n",
    "    \n",
    "    def read_emp2(self):\n",
    "        self.name=input(\"Enter a name: \")\n",
    "        self.salary=float(input(\"Enter a number for salary: \"))\n",
    "        self.address=input(\"Enter a address: \")"
   ]
  },
  {
   "cell_type": "code",
   "execution_count": 21,
   "id": "84807de1",
   "metadata": {},
   "outputs": [],
   "source": [
    "z=emp2()"
   ]
  },
  {
   "cell_type": "code",
   "execution_count": 22,
   "id": "60a11cda",
   "metadata": {},
   "outputs": [
    {
     "name": "stdout",
     "output_type": "stream",
     "text": [
      "Enter a name: reza\n",
      "Enter a number for salary: 123\n",
      "Enter a address: test\n"
     ]
    }
   ],
   "source": [
    "z.read_emp2()"
   ]
  },
  {
   "cell_type": "code",
   "execution_count": 23,
   "id": "4ef6c78d",
   "metadata": {},
   "outputs": [
    {
     "name": "stdout",
     "output_type": "stream",
     "text": [
      "Employee name:  reza\n",
      "Employee name:  123.0\n",
      "Employee name:  test\n"
     ]
    }
   ],
   "source": [
    "z.print_emp2()"
   ]
  },
  {
   "cell_type": "code",
   "execution_count": 42,
   "id": "0b5bb447",
   "metadata": {},
   "outputs": [],
   "source": [
    "#Constructor\n",
    "#we can use magic methof of init make our constractre method"
   ]
  },
  {
   "cell_type": "code",
   "execution_count": 27,
   "id": "cc839911",
   "metadata": {},
   "outputs": [],
   "source": [
    "class emp3():\n",
    "    \n",
    "    def __init__(self,name,salary,address):\n",
    "        self.name=name\n",
    "        self.salary=salary\n",
    "        self.address=address\n",
    "    \n",
    "    def print_emp3(self):\n",
    "        print(self.name)\n",
    "        print(self.salary)\n",
    "        print(self.address)\n",
    "        "
   ]
  },
  {
   "cell_type": "code",
   "execution_count": 29,
   "id": "75d3f8c9",
   "metadata": {},
   "outputs": [],
   "source": [
    "q=emp3('saeid','100','brjn')"
   ]
  },
  {
   "cell_type": "code",
   "execution_count": 30,
   "id": "eda4af12",
   "metadata": {},
   "outputs": [
    {
     "name": "stdout",
     "output_type": "stream",
     "text": [
      "saeid\n",
      "100\n",
      "brjn\n"
     ]
    }
   ],
   "source": [
    "q.print_emp3()"
   ]
  },
  {
   "cell_type": "code",
   "execution_count": 32,
   "id": "24149893",
   "metadata": {},
   "outputs": [],
   "source": [
    "#example"
   ]
  },
  {
   "cell_type": "code",
   "execution_count": 90,
   "id": "ca957b74",
   "metadata": {},
   "outputs": [],
   "source": [
    "class car():\n",
    "    #class attribute\n",
    "    price_change_amount=1.1\n",
    "    \n",
    "    def __init__(self,make,model,price,color=None):\n",
    "        self.make=make\n",
    "        self.model=model\n",
    "        self.price=price\n",
    "        self.color=color\n",
    "        #we can define instance attribute \n",
    "        self.speed=200\n",
    "        \n",
    "    def print_info(self):\n",
    "        print(f\"{self.make}-{self.model}---->${self.price}-{self.color}\")\n",
    "        \n",
    "    def get_buyers_info(self,num_buyers):\n",
    "        self.buyers_list=[]\n",
    "        \n",
    "        for i in range(num_buyers):\n",
    "            buyer=input(f\"Please enter buyers number#{i} name=\")\n",
    "            self.buyers_list.append(buyer)\n",
    "        print(f\"{self.buyers_list} bought the folowing car:\")\n",
    "        #call func inside oour func in class\n",
    "        self.print_info()\n",
    "        \n",
    "    def change_price(self):\n",
    "        self.price=int(self.price_change_amount*self.price)\n",
    "        "
   ]
  },
  {
   "cell_type": "code",
   "execution_count": 91,
   "id": "ccd5e226",
   "metadata": {},
   "outputs": [],
   "source": [
    "car1=car('Toyota','2022',20000)"
   ]
  },
  {
   "cell_type": "code",
   "execution_count": 92,
   "id": "6941f12e",
   "metadata": {},
   "outputs": [
    {
     "name": "stdout",
     "output_type": "stream",
     "text": [
      "Please enter buyers number#0 name=a\n",
      "Please enter buyers number#1 name=b\n",
      "['a', 'b'] bought the folowing car:\n",
      "Toyota-2022---->$20000-None\n"
     ]
    }
   ],
   "source": [
    "car1.get_buyers_info(2)"
   ]
  },
  {
   "cell_type": "code",
   "execution_count": 93,
   "id": "31942964",
   "metadata": {},
   "outputs": [
    {
     "name": "stdout",
     "output_type": "stream",
     "text": [
      "20000\n",
      "1.1\n",
      "22000\n"
     ]
    }
   ],
   "source": [
    "print(car1.price)\n",
    "print(car1.price_change_amount)\n",
    "car1.change_price()\n",
    "print(car1.price)"
   ]
  },
  {
   "cell_type": "code",
   "execution_count": 94,
   "id": "da3070ec",
   "metadata": {},
   "outputs": [],
   "source": [
    "car2=car(\"Benz\",'2021',3000,'red')"
   ]
  },
  {
   "cell_type": "code",
   "execution_count": 95,
   "id": "e1a7c47f",
   "metadata": {},
   "outputs": [
    {
     "name": "stdout",
     "output_type": "stream",
     "text": [
      "Benz-2021---->$3000-red\n"
     ]
    }
   ],
   "source": [
    "car2.print_info()"
   ]
  },
  {
   "cell_type": "code",
   "execution_count": 96,
   "id": "46b096f7",
   "metadata": {},
   "outputs": [
    {
     "data": {
      "text/plain": [
       "3000"
      ]
     },
     "execution_count": 96,
     "metadata": {},
     "output_type": "execute_result"
    }
   ],
   "source": [
    "car2.price_change_amount=1.2\n",
    "car2.price"
   ]
  },
  {
   "cell_type": "code",
   "execution_count": 97,
   "id": "90b28dda",
   "metadata": {},
   "outputs": [],
   "source": [
    "car2.change_price()"
   ]
  },
  {
   "cell_type": "code",
   "execution_count": 98,
   "id": "bfced2fb",
   "metadata": {},
   "outputs": [
    {
     "data": {
      "text/plain": [
       "3600"
      ]
     },
     "execution_count": 98,
     "metadata": {},
     "output_type": "execute_result"
    }
   ],
   "source": [
    "car2.price"
   ]
  },
  {
   "cell_type": "code",
   "execution_count": 99,
   "id": "e1c7a6b9",
   "metadata": {},
   "outputs": [],
   "source": [
    "#__dict__ (donder) get us all attributes and methoda of class"
   ]
  },
  {
   "cell_type": "code",
   "execution_count": 100,
   "id": "72af3f68",
   "metadata": {},
   "outputs": [
    {
     "data": {
      "text/plain": [
       "{'make': 'Toyota',\n",
       " 'model': '2022',\n",
       " 'price': 22000,\n",
       " 'color': None,\n",
       " 'buyers_list': ['a', 'b']}"
      ]
     },
     "execution_count": 100,
     "metadata": {},
     "output_type": "execute_result"
    }
   ],
   "source": [
    "car1.__dict__"
   ]
  },
  {
   "cell_type": "code",
   "execution_count": 101,
   "id": "77ad32a5",
   "metadata": {},
   "outputs": [],
   "source": [
    "#Inheritance"
   ]
  },
  {
   "cell_type": "code",
   "execution_count": 102,
   "id": "a84b2df5",
   "metadata": {},
   "outputs": [],
   "source": [
    "class lux_car(car):\n",
    "    pass\n",
    "        "
   ]
  },
  {
   "cell_type": "code",
   "execution_count": 103,
   "id": "69c436da",
   "metadata": {},
   "outputs": [],
   "source": [
    "car3=lux_car(\"Tesla\",'2022',2000)"
   ]
  },
  {
   "cell_type": "code",
   "execution_count": 104,
   "id": "1b8a637f",
   "metadata": {},
   "outputs": [
    {
     "name": "stdout",
     "output_type": "stream",
     "text": [
      "Help on class lux_car in module __main__:\n",
      "\n",
      "class lux_car(car)\n",
      " |  lux_car(make, model, price, color=None)\n",
      " |  \n",
      " |  Method resolution order:\n",
      " |      lux_car\n",
      " |      car\n",
      " |      builtins.object\n",
      " |  \n",
      " |  Methods inherited from car:\n",
      " |  \n",
      " |  __init__(self, make, model, price, color=None)\n",
      " |      Initialize self.  See help(type(self)) for accurate signature.\n",
      " |  \n",
      " |  change_price(self)\n",
      " |  \n",
      " |  get_buyers_info(self, num_buyers)\n",
      " |  \n",
      " |  print_info(self)\n",
      " |  \n",
      " |  ----------------------------------------------------------------------\n",
      " |  Data descriptors inherited from car:\n",
      " |  \n",
      " |  __dict__\n",
      " |      dictionary for instance variables (if defined)\n",
      " |  \n",
      " |  __weakref__\n",
      " |      list of weak references to the object (if defined)\n",
      " |  \n",
      " |  ----------------------------------------------------------------------\n",
      " |  Data and other attributes inherited from car:\n",
      " |  \n",
      " |  price_change_amount = 1.1\n",
      "\n",
      "None\n"
     ]
    }
   ],
   "source": [
    "print(help(lux_car))"
   ]
  },
  {
   "cell_type": "code",
   "execution_count": 132,
   "id": "5b1934c0",
   "metadata": {},
   "outputs": [],
   "source": [
    "class Electriccar(car):\n",
    "    price_change_amount=0.8\n",
    "    \n",
    "    "
   ]
  },
  {
   "cell_type": "code",
   "execution_count": 136,
   "id": "b92a1ba4",
   "metadata": {},
   "outputs": [],
   "source": [
    "ecar1=Electriccar('tesla','2022',400)"
   ]
  },
  {
   "cell_type": "code",
   "execution_count": 137,
   "id": "bcf1428f",
   "metadata": {},
   "outputs": [
    {
     "data": {
      "text/plain": [
       "0.8"
      ]
     },
     "execution_count": 137,
     "metadata": {},
     "output_type": "execute_result"
    }
   ],
   "source": [
    "ecar1.price_change_amount"
   ]
  },
  {
   "cell_type": "code",
   "execution_count": null,
   "id": "f042ec65",
   "metadata": {},
   "outputs": [],
   "source": []
  }
 ],
 "metadata": {
  "kernelspec": {
   "display_name": "Python 3 (ipykernel)",
   "language": "python",
   "name": "python3"
  },
  "language_info": {
   "codemirror_mode": {
    "name": "ipython",
    "version": 3
   },
   "file_extension": ".py",
   "mimetype": "text/x-python",
   "name": "python",
   "nbconvert_exporter": "python",
   "pygments_lexer": "ipython3",
   "version": "3.9.12"
  }
 },
 "nbformat": 4,
 "nbformat_minor": 5
}
