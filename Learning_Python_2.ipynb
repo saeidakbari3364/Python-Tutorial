{
 "cells": [
  {
   "cell_type": "markdown",
   "id": "d76ddbf5",
   "metadata": {},
   "source": [
    "# IF condition"
   ]
  },
  {
   "cell_type": "code",
   "execution_count": 1,
   "id": "dfd06bf9",
   "metadata": {},
   "outputs": [
    {
     "name": "stdout",
     "output_type": "stream",
     "text": [
      "a is not one\n"
     ]
    }
   ],
   "source": [
    "a=0\n",
    "if a==1:\n",
    "    print(\"a is one\")\n",
    "else:\n",
    "    print(\"a is not one\")"
   ]
  },
  {
   "cell_type": "code",
   "execution_count": 2,
   "id": "34cc7a03",
   "metadata": {},
   "outputs": [
    {
     "name": "stdout",
     "output_type": "stream",
     "text": [
      "Enter a number3\n",
      "Odd\n"
     ]
    }
   ],
   "source": [
    "a=int(input(\"Enter a number\")) \n",
    "if a%2==0:\n",
    "    print(\"Even\")\n",
    "else:\n",
    "    print(\"Odd\")"
   ]
  },
  {
   "cell_type": "code",
   "execution_count": 3,
   "id": "4ee181a9",
   "metadata": {},
   "outputs": [],
   "source": [
    "#elif condition"
   ]
  },
  {
   "cell_type": "code",
   "execution_count": 4,
   "id": "ff31c5ba",
   "metadata": {},
   "outputs": [
    {
     "name": "stdout",
     "output_type": "stream",
     "text": [
      "10 + 10\n",
      "20.0\n"
     ]
    }
   ],
   "source": [
    "n1,op1,n2=input().split()\n",
    "\n",
    "\n",
    "n1,n2=float(n1),float(n2)\n",
    "\n",
    "if op1==\"+\":\n",
    "    print(n1+n2)\n",
    "elif op1==\"-\":\n",
    "    print(n1-n2)\n",
    "elif op1==\"*\":\n",
    "    print(n1*n2)\n",
    "elif op1==\"/\":\n",
    "    print(n1/n2)\n",
    "else:\n",
    "    print('zero')"
   ]
  },
  {
   "cell_type": "code",
   "execution_count": 5,
   "id": "d1405491",
   "metadata": {},
   "outputs": [],
   "source": [
    "#while"
   ]
  },
  {
   "cell_type": "code",
   "execution_count": 6,
   "id": "573050c7",
   "metadata": {},
   "outputs": [
    {
     "name": "stdout",
     "output_type": "stream",
     "text": [
      "0\n",
      "1\n",
      "2\n",
      "3\n",
      "4\n",
      "5\n"
     ]
    }
   ],
   "source": [
    "i=0\n",
    "while i<=5:\n",
    "    print(i)\n",
    "    i+=1"
   ]
  },
  {
   "cell_type": "code",
   "execution_count": 18,
   "id": "09aaff95",
   "metadata": {},
   "outputs": [
    {
     "name": "stdout",
     "output_type": "stream",
     "text": [
      "0.4\n",
      "This a dog\n",
      "0.8\n",
      "This is a cat\n",
      "exit\n"
     ]
    }
   ],
   "source": [
    "while True:\n",
    "    \n",
    "    p_cat=input()\n",
    "    if p_cat==\"exit\":\n",
    "        break\n",
    "    else:\n",
    "        p_cat=float(p_cat)\n",
    "        p_dog=1-p_cat\n",
    "        if p_cat>0.7:\n",
    "            print(\"This is a cat\")\n",
    "        else:\n",
    "            print(\"This a dog\")"
   ]
  },
  {
   "cell_type": "code",
   "execution_count": 8,
   "id": "1c43a279",
   "metadata": {},
   "outputs": [
    {
     "name": "stdout",
     "output_type": "stream",
     "text": [
      "2 3\n",
      "8\n"
     ]
    }
   ],
   "source": [
    "#power\n",
    "num,pow1 =map(int,(input().split()))\n",
    "out_result=1\n",
    "while pow1 >= 1:\n",
    "    out_result *=num\n",
    "    pow1-=1\n",
    "print(out_result)"
   ]
  },
  {
   "cell_type": "code",
   "execution_count": 9,
   "id": "eeca1148",
   "metadata": {},
   "outputs": [
    {
     "name": "stdout",
     "output_type": "stream",
     "text": [
      "123\n",
      "3\n"
     ]
    }
   ],
   "source": [
    "#count of digits\n",
    "x=int(input())\n",
    "cnt=0\n",
    "if x==0:\n",
    "    cnt=1\n",
    "else:\n",
    "    if x<0:\n",
    "        x=-x\n",
    "    while x>0:\n",
    "        cnt+=1\n",
    "        x=x//10\n",
    "    \n",
    "print(cnt)"
   ]
  },
  {
   "cell_type": "code",
   "execution_count": 1,
   "id": "4d6385a4",
   "metadata": {},
   "outputs": [
    {
     "name": "stdout",
     "output_type": "stream",
     "text": [
      "4\n",
      "* \n",
      "* * \n",
      "* * * \n",
      "* * * * \n"
     ]
    }
   ],
   "source": [
    "n=int(input())\n",
    "\n",
    "row=0\n",
    "\n",
    "while row < n:\n",
    "    cnt=0\n",
    "    while cnt<=row:\n",
    "        print(\"*\",end=\" \")\n",
    "        cnt+=1\n",
    "    row+=1\n",
    "    print()"
   ]
  },
  {
   "cell_type": "code",
   "execution_count": 4,
   "id": "e8064632",
   "metadata": {},
   "outputs": [
    {
     "name": "stdout",
     "output_type": "stream",
     "text": [
      "4\n",
      "* * * * \n",
      "* * * \n",
      "* * \n",
      "* \n",
      "\n"
     ]
    }
   ],
   "source": [
    "n=int(input())\n",
    "\n",
    "row=n\n",
    "\n",
    "while row>=0:\n",
    "    cnt=0\n",
    "    while cnt<row:\n",
    "        print(\"*\",end=\" \")\n",
    "        cnt+=1\n",
    "    print()\n",
    "    row-=1"
   ]
  },
  {
   "cell_type": "code",
   "execution_count": 9,
   "id": "b62a9d53",
   "metadata": {},
   "outputs": [
    {
     "name": "stdout",
     "output_type": "stream",
     "text": [
      "4\n",
      "      * \n",
      "    * * * \n",
      "  * * * * * \n",
      "* * * * * * * \n",
      "* * * * * * * \n",
      "  * * * * * \n",
      "    * * * \n",
      "      * \n"
     ]
    }
   ],
   "source": [
    "'''\n",
    "let assume n=4\n",
    "row 1 --> space 3--->star 1\n",
    "row 2 --> space 2--->star 3\n",
    "row 3 --> space 1--->star 5\n",
    "row 4 --> space 0--->star 7\n",
    "\n",
    "spaces-->N-Row\n",
    "stars--->2*row-1\n",
    "'''\n",
    "n=int(input())\n",
    "\n",
    "row=1\n",
    "\n",
    "while row<=n:\n",
    "    #print N-Row:spaces\n",
    "    start_count=1\n",
    "    while start_count<=n-row:\n",
    "        print(\" \",end=\" \")\n",
    "        start_count+=1\n",
    "    \n",
    "    #print 2*row-1\n",
    "    start_count=1\n",
    "    while start_count<=2*row-1:\n",
    "        print(\"*\",end=' ')\n",
    "        start_count+=1\n",
    "    print()\n",
    "    row+=1\n",
    "\n",
    "row=n\n",
    "\n",
    "while row>0:\n",
    "    #print N-Row:spaces\n",
    "    start_count=1\n",
    "    while start_count<=n-row:\n",
    "        print(\" \",end=\" \")\n",
    "        start_count+=1\n",
    "    \n",
    "    #print 2*row-1\n",
    "    start_count=1\n",
    "    while start_count<=2*row-1:\n",
    "        print(\"*\",end=\" \")\n",
    "        start_count+=1\n",
    "    print()\n",
    "    row-=1"
   ]
  },
  {
   "cell_type": "code",
   "execution_count": 29,
   "id": "7d65ca6d",
   "metadata": {},
   "outputs": [
    {
     "name": "stdout",
     "output_type": "stream",
     "text": [
      "123\n",
      "321\n"
     ]
    }
   ],
   "source": [
    "#Reverse numbers\n",
    "n=int(input())\n",
    "rev=0\n",
    "\n",
    "while n>0:\n",
    "    d=n%10\n",
    "    n//=10\n",
    "    rev=rev*10+d\n",
    "\n",
    "print(rev)"
   ]
  },
  {
   "cell_type": "code",
   "execution_count": 13,
   "id": "a06d0268",
   "metadata": {},
   "outputs": [],
   "source": [
    "#for loop"
   ]
  },
  {
   "cell_type": "code",
   "execution_count": 16,
   "id": "a5503473",
   "metadata": {},
   "outputs": [
    {
     "name": "stdout",
     "output_type": "stream",
     "text": [
      "0\n",
      "1\n",
      "2\n",
      "3\n",
      "4\n"
     ]
    }
   ],
   "source": [
    "for i in range(5):\n",
    "    print(i)"
   ]
  },
  {
   "cell_type": "code",
   "execution_count": 14,
   "id": "4ebc2426",
   "metadata": {},
   "outputs": [
    {
     "name": "stdout",
     "output_type": "stream",
     "text": [
      "1\n",
      "2\n",
      "3\n",
      "4\n"
     ]
    }
   ],
   "source": [
    "for i in range(1,5):\n",
    "    print(i)"
   ]
  },
  {
   "cell_type": "code",
   "execution_count": 19,
   "id": "8d1b6bcd",
   "metadata": {},
   "outputs": [
    {
     "name": "stdout",
     "output_type": "stream",
     "text": [
      "1 3 5 7 "
     ]
    }
   ],
   "source": [
    "for i in range(1,9,2):\n",
    "    print(i, end=\" \")"
   ]
  },
  {
   "cell_type": "code",
   "execution_count": 15,
   "id": "1b2cb3ad",
   "metadata": {},
   "outputs": [
    {
     "name": "stdout",
     "output_type": "stream",
     "text": [
      "Hello\n",
      "Hello\n",
      "Hello\n",
      "Hello\n"
     ]
    }
   ],
   "source": [
    "for _ in range(1,5):\n",
    "    print(\"Hello\")"
   ]
  },
  {
   "cell_type": "code",
   "execution_count": 20,
   "id": "8c456a52",
   "metadata": {},
   "outputs": [
    {
     "name": "stdout",
     "output_type": "stream",
     "text": [
      "5 4 3 2 1 "
     ]
    }
   ],
   "source": [
    "for i in range(5,0,-1):\n",
    "    print(i,end=\" \")"
   ]
  },
  {
   "cell_type": "code",
   "execution_count": 23,
   "id": "7599caa4",
   "metadata": {},
   "outputs": [
    {
     "name": "stdout",
     "output_type": "stream",
     "text": [
      "10 8 6 4 2 "
     ]
    }
   ],
   "source": [
    "for i in range(10,0,-2):\n",
    "    print(i,end=\" \")"
   ]
  },
  {
   "cell_type": "code",
   "execution_count": 24,
   "id": "9c9074ca",
   "metadata": {},
   "outputs": [],
   "source": [
    "for i in range(5):\n",
    "    pass\n",
    "#just for simple useless statement"
   ]
  },
  {
   "cell_type": "code",
   "execution_count": 26,
   "id": "b433040b",
   "metadata": {},
   "outputs": [
    {
     "name": "stdout",
     "output_type": "stream",
     "text": [
      "s a e i d a k b a r i "
     ]
    }
   ],
   "source": [
    "char='saeidakbari'\n",
    "for i in char:\n",
    "    print(i,end=\" \")"
   ]
  },
  {
   "cell_type": "code",
   "execution_count": 48,
   "id": "82ff911c",
   "metadata": {},
   "outputs": [
    {
     "name": "stdout",
     "output_type": "stream",
     "text": [
      "15\n"
     ]
    }
   ],
   "source": [
    "#sum 1 to n\n",
    "n=5\n",
    "sum=0\n",
    "for i in range(n+1):\n",
    "    sum=sum+i\n",
    "print(sum)\n"
   ]
  },
  {
   "cell_type": "code",
   "execution_count": 1,
   "id": "06989344",
   "metadata": {},
   "outputs": [
    {
     "name": "stdout",
     "output_type": "stream",
     "text": [
      "0\n",
      "1\n",
      "2\n",
      "3\n",
      "4\n",
      "Finish\n"
     ]
    }
   ],
   "source": [
    "for i in range(5):\n",
    "    print(i)\n",
    "else:\n",
    "    print(\"Finish\")"
   ]
  },
  {
   "cell_type": "code",
   "execution_count": 2,
   "id": "d7210195",
   "metadata": {},
   "outputs": [
    {
     "name": "stdout",
     "output_type": "stream",
     "text": [
      "0\n",
      "1\n",
      "2\n",
      "3\n"
     ]
    }
   ],
   "source": [
    "for i in range(5):\n",
    "    print(i)\n",
    "    if i==3:\n",
    "        break\n",
    "else:\n",
    "    print(\"else is ignore\")\n",
    "        "
   ]
  },
  {
   "cell_type": "code",
   "execution_count": 11,
   "id": "03274de4",
   "metadata": {},
   "outputs": [
    {
     "name": "stdout",
     "output_type": "stream",
     "text": [
      "1\n",
      "2\n",
      "3\n",
      "3\n",
      "12\n"
     ]
    }
   ],
   "source": [
    "#Read T case -N number - sum of that numbe this way-->if N=3--> a+b*b+c*c*c\n",
    "total_case=int(input())\n",
    "\n",
    "for case in range(total_case):\n",
    "    n=int(input())\n",
    "    sum1=0\n",
    "    \n",
    "    for i in range(n):\n",
    "        value,result=int(input()),1\n",
    "        \n",
    "        for j in range(i+1):\n",
    "            result *=value\n",
    "        \n",
    "        sum1+=result\n",
    "    print(sum1)\n",
    "    \n",
    "# 1 Iteration  2 numbers 3 ,3  =3+ 3*3=12"
   ]
  },
  {
   "cell_type": "code",
   "execution_count": 12,
   "id": "f46e12c5",
   "metadata": {},
   "outputs": [],
   "source": [
    "#Read n,m, sum ----> find A+B==sum"
   ]
  },
  {
   "cell_type": "code",
   "execution_count": 17,
   "id": "9b603128",
   "metadata": {},
   "outputs": [
    {
     "name": "stdout",
     "output_type": "stream",
     "text": [
      "10 10 5\n",
      "0+5=5\n",
      "1+4=5\n",
      "2+3=5\n",
      "3+2=5\n",
      "4+1=5\n",
      "5+0=5\n",
      "6\n"
     ]
    }
   ],
   "source": [
    "n,m,sum1=map(int,input().split())\n",
    "cnt=0\n",
    "\n",
    "for i in range(n+1):\n",
    "    for j in range(m+1):\n",
    "        if i+j==sum1:\n",
    "            print(f\"{i}+{j}={i+j}\")\n",
    "            cnt+=1\n",
    "print(cnt)"
   ]
  },
  {
   "cell_type": "code",
   "execution_count": 26,
   "id": "9ca9d15a",
   "metadata": {},
   "outputs": [
    {
     "name": "stdout",
     "output_type": "stream",
     "text": [
      "4\n",
      "*   * \n",
      " * *  \n",
      " * *  \n",
      "*   * \n"
     ]
    }
   ],
   "source": [
    "n=int(input())\n",
    "\n",
    "for i in range(n):\n",
    "    for j in range(n):\n",
    "        if i==j or n-i-1==j:\n",
    "            print(\"*\",end=\" \")\n",
    "        else:\n",
    "            print(\" \",end='')\n",
    "    print()"
   ]
  },
  {
   "cell_type": "code",
   "execution_count": 27,
   "id": "8ae72bbb",
   "metadata": {},
   "outputs": [],
   "source": [
    "# Prime number"
   ]
  },
  {
   "cell_type": "code",
   "execution_count": 30,
   "id": "357fb7c0",
   "metadata": {},
   "outputs": [
    {
     "name": "stdout",
     "output_type": "stream",
     "text": [
      "13\n",
      "Yes\n"
     ]
    }
   ],
   "source": [
    "n=int(input())\n",
    "\n",
    "if n<=1:\n",
    "    print(\"No\")\n",
    "else:\n",
    "    \n",
    "    is_ok=True\n",
    "    \n",
    "    for i in range(2,n):\n",
    "        if n%2==0:\n",
    "            is_ok=False\n",
    "            break\n",
    "    if is_ok:\n",
    "        print(\"Yes\")\n",
    "    else:\n",
    "        print(\"NO\")\n",
    "    "
   ]
  },
  {
   "cell_type": "code",
   "execution_count": 34,
   "id": "8482273e",
   "metadata": {},
   "outputs": [
    {
     "name": "stdout",
     "output_type": "stream",
     "text": [
      "13\n",
      "2 3 5 7 11 13 "
     ]
    }
   ],
   "source": [
    "#Print pime number from 1 to n\n",
    "\n",
    "n=int(input())\n",
    "\n",
    "for i in range(2,n+1):\n",
    "    is_ok=True\n",
    "    for j in range(2,i):\n",
    "        if i%j==0:\n",
    "            is_ok=False\n",
    "            break\n",
    "    if is_ok:\n",
    "        print(i,end=\" \")\n",
    "            "
   ]
  },
  {
   "cell_type": "code",
   "execution_count": null,
   "id": "a3e5ab87",
   "metadata": {},
   "outputs": [],
   "source": []
  }
 ],
 "metadata": {
  "kernelspec": {
   "display_name": "Python 3 (ipykernel)",
   "language": "python",
   "name": "python3"
  },
  "language_info": {
   "codemirror_mode": {
    "name": "ipython",
    "version": 3
   },
   "file_extension": ".py",
   "mimetype": "text/x-python",
   "name": "python",
   "nbconvert_exporter": "python",
   "pygments_lexer": "ipython3",
   "version": "3.9.12"
  }
 },
 "nbformat": 4,
 "nbformat_minor": 5
}
