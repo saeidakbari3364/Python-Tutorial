{
 "cells": [
  {
   "cell_type": "markdown",
   "id": "e40d3f81",
   "metadata": {},
   "source": [
    "# Introduction to Learn Python"
   ]
  },
  {
   "cell_type": "code",
   "execution_count": 2,
   "id": "76ea8a5a",
   "metadata": {},
   "outputs": [],
   "source": [
    "# AI Course in Technical and Vocational University"
   ]
  },
  {
   "cell_type": "code",
   "execution_count": 3,
   "id": "db086da0",
   "metadata": {},
   "outputs": [],
   "source": [
    "# we can use ctrl+enter to run"
   ]
  },
  {
   "cell_type": "code",
   "execution_count": 4,
   "id": "528c0eea",
   "metadata": {},
   "outputs": [],
   "source": [
    "#we can use A and B to create Cell above or Down of our cell"
   ]
  },
  {
   "cell_type": "code",
   "execution_count": 5,
   "id": "6fb0551f",
   "metadata": {},
   "outputs": [],
   "source": [
    "#we can delete our cell with D, D"
   ]
  },
  {
   "cell_type": "code",
   "execution_count": 6,
   "id": "50f6d080",
   "metadata": {},
   "outputs": [],
   "source": [
    "#First program"
   ]
  },
  {
   "cell_type": "code",
   "execution_count": 7,
   "id": "545331fc",
   "metadata": {},
   "outputs": [
    {
     "name": "stdout",
     "output_type": "stream",
     "text": [
      "Hello World\n"
     ]
    }
   ],
   "source": [
    "print(\"Hello World\")"
   ]
  },
  {
   "cell_type": "code",
   "execution_count": 8,
   "id": "0c180679",
   "metadata": {},
   "outputs": [
    {
     "data": {
      "text/plain": [
       "4"
      ]
     },
     "execution_count": 8,
     "metadata": {},
     "output_type": "execute_result"
    }
   ],
   "source": [
    "2+2"
   ]
  },
  {
   "cell_type": "code",
   "execution_count": 9,
   "id": "de1827b5",
   "metadata": {},
   "outputs": [
    {
     "data": {
      "text/plain": [
       "4"
      ]
     },
     "execution_count": 9,
     "metadata": {},
     "output_type": "execute_result"
    }
   ],
   "source": [
    "2*2"
   ]
  },
  {
   "cell_type": "code",
   "execution_count": 10,
   "id": "4d869c7e",
   "metadata": {},
   "outputs": [
    {
     "data": {
      "text/plain": [
       "4"
      ]
     },
     "execution_count": 10,
     "metadata": {},
     "output_type": "execute_result"
    }
   ],
   "source": [
    "2**2"
   ]
  },
  {
   "cell_type": "code",
   "execution_count": 11,
   "id": "208030f0",
   "metadata": {},
   "outputs": [
    {
     "data": {
      "text/plain": [
       "1"
      ]
     },
     "execution_count": 11,
     "metadata": {},
     "output_type": "execute_result"
    }
   ],
   "source": [
    "10%3"
   ]
  },
  {
   "cell_type": "code",
   "execution_count": 12,
   "id": "7bb67ba9",
   "metadata": {},
   "outputs": [
    {
     "data": {
      "text/plain": [
       "3.3333333333333335"
      ]
     },
     "execution_count": 12,
     "metadata": {},
     "output_type": "execute_result"
    }
   ],
   "source": [
    "10/3"
   ]
  },
  {
   "cell_type": "code",
   "execution_count": 13,
   "id": "6c09d459",
   "metadata": {},
   "outputs": [
    {
     "data": {
      "text/plain": [
       "3"
      ]
     },
     "execution_count": 13,
     "metadata": {},
     "output_type": "execute_result"
    }
   ],
   "source": [
    "10//3"
   ]
  },
  {
   "cell_type": "code",
   "execution_count": 14,
   "id": "058d1c8e",
   "metadata": {},
   "outputs": [],
   "source": [
    "#Data Types\n",
    "#integer:4 , 0 , -32\n",
    "#float:-2.3 , 0.0 , 43.32\n",
    "#string:\"ali\" , 'test'"
   ]
  },
  {
   "cell_type": "code",
   "execution_count": 15,
   "id": "e31e9257",
   "metadata": {},
   "outputs": [
    {
     "data": {
      "text/plain": [
       "'saeid'"
      ]
     },
     "execution_count": 15,
     "metadata": {},
     "output_type": "execute_result"
    }
   ],
   "source": [
    "'saeid'"
   ]
  },
  {
   "cell_type": "code",
   "execution_count": 16,
   "id": "7e09cfcf",
   "metadata": {},
   "outputs": [
    {
     "data": {
      "text/plain": [
       "'saeid'"
      ]
     },
     "execution_count": 16,
     "metadata": {},
     "output_type": "execute_result"
    }
   ],
   "source": [
    "\"saeid\""
   ]
  },
  {
   "cell_type": "code",
   "execution_count": 17,
   "id": "ce5c2265",
   "metadata": {},
   "outputs": [
    {
     "data": {
      "text/plain": [
       "'ali Ahmadi'"
      ]
     },
     "execution_count": 17,
     "metadata": {},
     "output_type": "execute_result"
    }
   ],
   "source": [
    "\"ali \"+\"Ahmadi\""
   ]
  },
  {
   "cell_type": "code",
   "execution_count": 18,
   "id": "b15cbe2d",
   "metadata": {},
   "outputs": [
    {
     "ename": "TypeError",
     "evalue": "can only concatenate str (not \"int\") to str",
     "output_type": "error",
     "traceback": [
      "\u001b[1;31m---------------------------------------------------------------------------\u001b[0m",
      "\u001b[1;31mTypeError\u001b[0m                                 Traceback (most recent call last)",
      "Input \u001b[1;32mIn [18]\u001b[0m, in \u001b[0;36m<cell line: 1>\u001b[1;34m()\u001b[0m\n\u001b[1;32m----> 1\u001b[0m \u001b[38;5;124;43m\"\u001b[39;49m\u001b[38;5;124;43mali\u001b[39;49m\u001b[38;5;124;43m\"\u001b[39;49m\u001b[38;5;241;43m+\u001b[39;49m\u001b[38;5;241;43m3\u001b[39;49m\n",
      "\u001b[1;31mTypeError\u001b[0m: can only concatenate str (not \"int\") to str"
     ]
    }
   ],
   "source": [
    "\"ali\"+3"
   ]
  },
  {
   "cell_type": "code",
   "execution_count": 19,
   "id": "14f4210a",
   "metadata": {},
   "outputs": [],
   "source": [
    "#Variables"
   ]
  },
  {
   "cell_type": "code",
   "execution_count": 20,
   "id": "ecf237e0",
   "metadata": {},
   "outputs": [],
   "source": [
    "#Assign"
   ]
  },
  {
   "cell_type": "code",
   "execution_count": 21,
   "id": "c0d231c7",
   "metadata": {},
   "outputs": [],
   "source": [
    "first_name=\"saeid\""
   ]
  },
  {
   "cell_type": "code",
   "execution_count": 22,
   "id": "ead835ff",
   "metadata": {},
   "outputs": [],
   "source": [
    "last_name=\"Akbari\""
   ]
  },
  {
   "cell_type": "code",
   "execution_count": 23,
   "id": "9578272f",
   "metadata": {},
   "outputs": [],
   "source": [
    "Win_version=10.0"
   ]
  },
  {
   "cell_type": "code",
   "execution_count": 24,
   "id": "721cf76d",
   "metadata": {},
   "outputs": [],
   "source": [
    "build_number=12333"
   ]
  },
  {
   "cell_type": "code",
   "execution_count": 25,
   "id": "e32ebc2d",
   "metadata": {},
   "outputs": [],
   "source": [
    "X,Y,Z=10 , 2.2 , 234"
   ]
  },
  {
   "cell_type": "code",
   "execution_count": 26,
   "id": "39e7171f",
   "metadata": {},
   "outputs": [
    {
     "data": {
      "text/plain": [
       "(10, 2.2, 234)"
      ]
     },
     "execution_count": 26,
     "metadata": {},
     "output_type": "execute_result"
    }
   ],
   "source": [
    "X,Y,Z"
   ]
  },
  {
   "cell_type": "code",
   "execution_count": 27,
   "id": "c2ae568d",
   "metadata": {},
   "outputs": [],
   "source": [
    "full_name=first_name+' '+last_name"
   ]
  },
  {
   "cell_type": "code",
   "execution_count": 28,
   "id": "8e8a301d",
   "metadata": {},
   "outputs": [
    {
     "data": {
      "text/plain": [
       "'saeid Akbari'"
      ]
     },
     "execution_count": 28,
     "metadata": {},
     "output_type": "execute_result"
    }
   ],
   "source": [
    "full_name"
   ]
  },
  {
   "cell_type": "code",
   "execution_count": 29,
   "id": "fb14dcad",
   "metadata": {},
   "outputs": [],
   "source": [
    "#incorrect define variables"
   ]
  },
  {
   "cell_type": "code",
   "execution_count": 30,
   "id": "5e1ab6e5",
   "metadata": {},
   "outputs": [],
   "source": [
    "# 234_name=10\n",
    "# $$#@!\n",
    "#f-name\n",
    "#"
   ]
  },
  {
   "cell_type": "code",
   "execution_count": 31,
   "id": "00587c47",
   "metadata": {},
   "outputs": [
    {
     "name": "stdout",
     "output_type": "stream",
     "text": [
      "saeid Akbari\n"
     ]
    }
   ],
   "source": [
    "print(full_name)"
   ]
  },
  {
   "cell_type": "code",
   "execution_count": 32,
   "id": "1922dcbb",
   "metadata": {},
   "outputs": [
    {
     "name": "stdout",
     "output_type": "stream",
     "text": [
      "6\n"
     ]
    }
   ],
   "source": [
    "print(2*3)"
   ]
  },
  {
   "cell_type": "code",
   "execution_count": 33,
   "id": "f28e54ab",
   "metadata": {},
   "outputs": [
    {
     "name": "stdout",
     "output_type": "stream",
     "text": [
      "saeid Akbari is a student\n"
     ]
    }
   ],
   "source": [
    "print(f\"{full_name} is a student\")"
   ]
  },
  {
   "cell_type": "code",
   "execution_count": null,
   "id": "43513117",
   "metadata": {},
   "outputs": [],
   "source": []
  }
 ],
 "metadata": {
  "kernelspec": {
   "display_name": "Python 3 (ipykernel)",
   "language": "python",
   "name": "python3"
  },
  "language_info": {
   "codemirror_mode": {
    "name": "ipython",
    "version": 3
   },
   "file_extension": ".py",
   "mimetype": "text/x-python",
   "name": "python",
   "nbconvert_exporter": "python",
   "pygments_lexer": "ipython3",
   "version": "3.9.12"
  }
 },
 "nbformat": 4,
 "nbformat_minor": 5
}
