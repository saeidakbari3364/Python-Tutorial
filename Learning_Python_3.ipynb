{
 "cells": [
  {
   "cell_type": "markdown",
   "id": "383aadc8",
   "metadata": {},
   "source": [
    "# Define Function"
   ]
  },
  {
   "cell_type": "markdown",
   "id": "3d5e4458",
   "metadata": {},
   "source": [
    "Calling Built-in Function"
   ]
  },
  {
   "cell_type": "code",
   "execution_count": 2,
   "id": "4f6ea163",
   "metadata": {},
   "outputs": [
    {
     "name": "stdout",
     "output_type": "stream",
     "text": [
      "\n",
      "1 5 Hi\n"
     ]
    },
    {
     "data": {
      "text/plain": [
       "int"
      ]
     },
     "execution_count": 2,
     "metadata": {},
     "output_type": "execute_result"
    }
   ],
   "source": [
    "print()\n",
    "print(1,5,\"Hi\")\n",
    "answer=min(3,6)\n",
    "type(15)"
   ]
  },
  {
   "cell_type": "code",
   "execution_count": 3,
   "id": "4e783133",
   "metadata": {},
   "outputs": [
    {
     "name": "stdout",
     "output_type": "stream",
     "text": [
      "hello saeid\n"
     ]
    }
   ],
   "source": [
    "print(\"hello saeid\")"
   ]
  },
  {
   "cell_type": "code",
   "execution_count": 4,
   "id": "8f1e14bd",
   "metadata": {},
   "outputs": [],
   "source": [
    "def hello():\n",
    "    print(\"Hello\")"
   ]
  },
  {
   "cell_type": "code",
   "execution_count": 6,
   "id": "77077352",
   "metadata": {},
   "outputs": [
    {
     "name": "stdout",
     "output_type": "stream",
     "text": [
      "Hello\n"
     ]
    }
   ],
   "source": [
    "hello()"
   ]
  },
  {
   "cell_type": "code",
   "execution_count": 12,
   "id": "d18ad0de",
   "metadata": {},
   "outputs": [],
   "source": [
    "#Parameter is the varaible use to define a function for example= name"
   ]
  },
  {
   "cell_type": "code",
   "execution_count": 13,
   "id": "415b3d38",
   "metadata": {},
   "outputs": [],
   "source": [
    "def hellon(name):\n",
    "    print(\"Hello \",name)"
   ]
  },
  {
   "cell_type": "code",
   "execution_count": 14,
   "id": "a31d18c8",
   "metadata": {},
   "outputs": [],
   "source": [
    "#Argument is an experssion passed to function for example=saeid"
   ]
  },
  {
   "cell_type": "code",
   "execution_count": 8,
   "id": "46f5f982",
   "metadata": {},
   "outputs": [
    {
     "name": "stdout",
     "output_type": "stream",
     "text": [
      "Hello  saeid\n"
     ]
    }
   ],
   "source": [
    "hellon(\"saeid\")"
   ]
  },
  {
   "cell_type": "code",
   "execution_count": 10,
   "id": "040d2840",
   "metadata": {},
   "outputs": [],
   "source": [
    "def our_sum(a,b):\n",
    "    print(\"sum of a+b=\",a+b)"
   ]
  },
  {
   "cell_type": "code",
   "execution_count": 11,
   "id": "afa308ed",
   "metadata": {},
   "outputs": [
    {
     "name": "stdout",
     "output_type": "stream",
     "text": [
      "sum of a+b= 2\n"
     ]
    }
   ],
   "source": [
    "our_sum(1,1)"
   ]
  },
  {
   "cell_type": "code",
   "execution_count": 15,
   "id": "90a0b45e",
   "metadata": {},
   "outputs": [],
   "source": [
    "#Return"
   ]
  },
  {
   "cell_type": "code",
   "execution_count": 16,
   "id": "f8d45cb9",
   "metadata": {},
   "outputs": [],
   "source": [
    "def our_min(a,b):\n",
    "    if a<b:\n",
    "        return a\n",
    "    else:\n",
    "        return b"
   ]
  },
  {
   "cell_type": "code",
   "execution_count": 17,
   "id": "a0a6ccfd",
   "metadata": {},
   "outputs": [
    {
     "name": "stdout",
     "output_type": "stream",
     "text": [
      "10\n"
     ]
    }
   ],
   "source": [
    "x=our_min(10,20)\n",
    "print(x)"
   ]
  },
  {
   "cell_type": "code",
   "execution_count": 18,
   "id": "65a1ca44",
   "metadata": {},
   "outputs": [],
   "source": [
    "#Multiple Retuens"
   ]
  },
  {
   "cell_type": "code",
   "execution_count": 19,
   "id": "149ab6ed",
   "metadata": {},
   "outputs": [],
   "source": [
    "def f():\n",
    "    return 1,2,3"
   ]
  },
  {
   "cell_type": "code",
   "execution_count": 20,
   "id": "432bbf63",
   "metadata": {},
   "outputs": [
    {
     "name": "stdout",
     "output_type": "stream",
     "text": [
      "1 2 3\n"
     ]
    }
   ],
   "source": [
    "a,b,c=f()\n",
    "print(a,b,c)"
   ]
  },
  {
   "cell_type": "code",
   "execution_count": 23,
   "id": "75144748",
   "metadata": {},
   "outputs": [],
   "source": [
    "together=f()"
   ]
  },
  {
   "cell_type": "code",
   "execution_count": 24,
   "id": "b45631c6",
   "metadata": {},
   "outputs": [
    {
     "data": {
      "text/plain": [
       "tuple"
      ]
     },
     "execution_count": 24,
     "metadata": {},
     "output_type": "execute_result"
    }
   ],
   "source": [
    "type(together)"
   ]
  },
  {
   "cell_type": "code",
   "execution_count": 27,
   "id": "4f57a7f2",
   "metadata": {},
   "outputs": [
    {
     "name": "stdout",
     "output_type": "stream",
     "text": [
      "1 2 3\n"
     ]
    }
   ],
   "source": [
    "#Unpack\n",
    "x,y,z=together\n",
    "print(x,y,z)"
   ]
  },
  {
   "cell_type": "code",
   "execution_count": 28,
   "id": "dc1e779c",
   "metadata": {},
   "outputs": [],
   "source": [
    "#create a tuple\n",
    "my_tuple=(1,2,3)"
   ]
  },
  {
   "cell_type": "code",
   "execution_count": 29,
   "id": "6c71d1be",
   "metadata": {},
   "outputs": [],
   "source": [
    "#defult Argument\n",
    "def my_sum(a=1,b=2):\n",
    "    print(a+b)"
   ]
  },
  {
   "cell_type": "code",
   "execution_count": 30,
   "id": "d638bae6",
   "metadata": {},
   "outputs": [
    {
     "name": "stdout",
     "output_type": "stream",
     "text": [
      "3\n"
     ]
    }
   ],
   "source": [
    "my_sum()"
   ]
  },
  {
   "cell_type": "code",
   "execution_count": 31,
   "id": "1d801404",
   "metadata": {},
   "outputs": [],
   "source": [
    "#Callings"
   ]
  },
  {
   "cell_type": "code",
   "execution_count": 32,
   "id": "b10e8b3d",
   "metadata": {},
   "outputs": [],
   "source": [
    "def our_abs(num):\n",
    "    if num>=0:\n",
    "        return num\n",
    "    return -num"
   ]
  },
  {
   "cell_type": "code",
   "execution_count": 33,
   "id": "312f2630",
   "metadata": {},
   "outputs": [],
   "source": [
    "def our_max(a,b):\n",
    "    a=our_abs(a)\n",
    "    b=our_abs(b)\n",
    "    if a>b:\n",
    "        return a\n",
    "    return b"
   ]
  },
  {
   "cell_type": "code",
   "execution_count": 34,
   "id": "b246731c",
   "metadata": {},
   "outputs": [
    {
     "name": "stdout",
     "output_type": "stream",
     "text": [
      "3\n"
     ]
    }
   ],
   "source": [
    "print(our_max(2,3))"
   ]
  },
  {
   "cell_type": "code",
   "execution_count": 35,
   "id": "21585713",
   "metadata": {},
   "outputs": [
    {
     "name": "stdout",
     "output_type": "stream",
     "text": [
      "3\n"
     ]
    }
   ],
   "source": [
    "print(our_max(2,-3))"
   ]
  },
  {
   "cell_type": "code",
   "execution_count": 36,
   "id": "8176038c",
   "metadata": {},
   "outputs": [],
   "source": [
    "#Enumerate Func"
   ]
  },
  {
   "cell_type": "code",
   "execution_count": 37,
   "id": "7b39aa7d",
   "metadata": {},
   "outputs": [
    {
     "name": "stdout",
     "output_type": "stream",
     "text": [
      "0 5\n",
      "1 6\n",
      "2 7\n"
     ]
    }
   ],
   "source": [
    "for i in enumerate(range(5,8)):\n",
    "    idx,value=i  #type(i)--->tuple\n",
    "    print(idx, value)"
   ]
  },
  {
   "cell_type": "code",
   "execution_count": 39,
   "id": "f290b540",
   "metadata": {},
   "outputs": [
    {
     "name": "stdout",
     "output_type": "stream",
     "text": [
      "0 5\n",
      "1 6\n",
      "2 7\n"
     ]
    }
   ],
   "source": [
    "for idx,value in enumerate(range(5,8)):\n",
    "    print(idx,value)"
   ]
  },
  {
   "cell_type": "code",
   "execution_count": 41,
   "id": "a57eb16f",
   "metadata": {},
   "outputs": [
    {
     "name": "stdout",
     "output_type": "stream",
     "text": [
      "0 a\n",
      "1 l\n",
      "2 i\n"
     ]
    }
   ],
   "source": [
    "for idx,value in enumerate('ali'):\n",
    "    print(idx,value)"
   ]
  },
  {
   "cell_type": "code",
   "execution_count": 42,
   "id": "ebd6ab49",
   "metadata": {},
   "outputs": [],
   "source": [
    "#Override Function"
   ]
  },
  {
   "cell_type": "code",
   "execution_count": 47,
   "id": "6642d557",
   "metadata": {},
   "outputs": [],
   "source": [
    "def our_sum(a,b):\n",
    "    return a+b"
   ]
  },
  {
   "cell_type": "code",
   "execution_count": 48,
   "id": "84d88a92",
   "metadata": {},
   "outputs": [
    {
     "name": "stdout",
     "output_type": "stream",
     "text": [
      "3\n"
     ]
    }
   ],
   "source": [
    "print(our_sum(1,2))"
   ]
  },
  {
   "cell_type": "code",
   "execution_count": 50,
   "id": "6d03e917",
   "metadata": {},
   "outputs": [],
   "source": [
    "def our_sum(a,b,c):\n",
    "    return a+b+c"
   ]
  },
  {
   "cell_type": "code",
   "execution_count": 51,
   "id": "fba75b7f",
   "metadata": {},
   "outputs": [
    {
     "name": "stdout",
     "output_type": "stream",
     "text": [
      "6\n"
     ]
    }
   ],
   "source": [
    "print(our_sum(1,2,3))"
   ]
  },
  {
   "cell_type": "code",
   "execution_count": 52,
   "id": "d15b2b88",
   "metadata": {},
   "outputs": [],
   "source": [
    "#local and Global Scope"
   ]
  },
  {
   "cell_type": "code",
   "execution_count": 60,
   "id": "ffc0fac7",
   "metadata": {},
   "outputs": [],
   "source": [
    "globl=20\n",
    "\n",
    "def ff():\n",
    "    locl=30\n",
    "    print(\"Local variable is =\",locl)\n",
    "    print(\"Global variable is = \",globl)\n",
    "    return locl"
   ]
  },
  {
   "cell_type": "code",
   "execution_count": 63,
   "id": "842a550d",
   "metadata": {},
   "outputs": [
    {
     "name": "stdout",
     "output_type": "stream",
     "text": [
      "Local variable is = 30\n",
      "Global variable is =  20\n"
     ]
    },
    {
     "data": {
      "text/plain": [
       "30"
      ]
     },
     "execution_count": 63,
     "metadata": {},
     "output_type": "execute_result"
    }
   ],
   "source": [
    "ff()\n"
   ]
  },
  {
   "cell_type": "code",
   "execution_count": 64,
   "id": "df5a5e4f",
   "metadata": {},
   "outputs": [
    {
     "name": "stdout",
     "output_type": "stream",
     "text": [
      "20\n"
     ]
    }
   ],
   "source": [
    "print(globl)"
   ]
  },
  {
   "cell_type": "code",
   "execution_count": 66,
   "id": "640c8345",
   "metadata": {},
   "outputs": [
    {
     "ename": "NameError",
     "evalue": "name 'loc1' is not defined",
     "output_type": "error",
     "traceback": [
      "\u001b[1;31m---------------------------------------------------------------------------\u001b[0m",
      "\u001b[1;31mNameError\u001b[0m                                 Traceback (most recent call last)",
      "Input \u001b[1;32mIn [66]\u001b[0m, in \u001b[0;36m<cell line: 1>\u001b[1;34m()\u001b[0m\n\u001b[1;32m----> 1\u001b[0m \u001b[38;5;28mprint\u001b[39m(\u001b[43mloc1\u001b[49m)\n",
      "\u001b[1;31mNameError\u001b[0m: name 'loc1' is not defined"
     ]
    }
   ],
   "source": [
    "print(loc1) #Name Error:is not define "
   ]
  },
  {
   "cell_type": "code",
   "execution_count": 67,
   "id": "cc1da793",
   "metadata": {},
   "outputs": [],
   "source": [
    "#Conflicts\n",
    "b=20\n",
    "c=6\n",
    "\n",
    "def fff():\n",
    "    #c not in local, but in global \n",
    "    #b is local not global. It dosen't affects global one\n",
    "    b=c+1   #b here is a local b\n",
    "    print(b)  #7\n",
    "    return b"
   ]
  },
  {
   "cell_type": "code",
   "execution_count": 69,
   "id": "a2319f52",
   "metadata": {},
   "outputs": [
    {
     "name": "stdout",
     "output_type": "stream",
     "text": [
      "7\n",
      "20\n"
     ]
    }
   ],
   "source": [
    "fff() \n",
    "print(b)"
   ]
  },
  {
   "cell_type": "code",
   "execution_count": 70,
   "id": "00bc6de0",
   "metadata": {},
   "outputs": [
    {
     "name": "stdout",
     "output_type": "stream",
     "text": [
      "7\n",
      "7\n"
     ]
    }
   ],
   "source": [
    "b=fff()\n",
    "print(b)"
   ]
  },
  {
   "cell_type": "code",
   "execution_count": 71,
   "id": "94173c24",
   "metadata": {},
   "outputs": [],
   "source": [
    "#Global Keyword"
   ]
  },
  {
   "cell_type": "code",
   "execution_count": 74,
   "id": "8a76ba8d",
   "metadata": {},
   "outputs": [],
   "source": [
    "b=20\n",
    "c=6\n",
    "\n",
    "\n",
    "def f1():\n",
    "    global b\n",
    "    #we use global b here by global keyword\n",
    "    b=c+1 #b=7 b here is a global b\n",
    "    print(b)\n",
    "    return b"
   ]
  },
  {
   "cell_type": "code",
   "execution_count": 75,
   "id": "afa96161",
   "metadata": {},
   "outputs": [
    {
     "name": "stdout",
     "output_type": "stream",
     "text": [
      "7\n",
      "7\n"
     ]
    }
   ],
   "source": [
    "f1()\n",
    "print(b)   #7"
   ]
  },
  {
   "cell_type": "code",
   "execution_count": 76,
   "id": "e422366a",
   "metadata": {},
   "outputs": [],
   "source": [
    "#Constants\n",
    "\n",
    "PI=3.14\n",
    "\n",
    "def compute_area(raduis):\n",
    "    return PI*raduis*raduis"
   ]
  },
  {
   "cell_type": "code",
   "execution_count": 78,
   "id": "ded7561e",
   "metadata": {},
   "outputs": [],
   "source": [
    "#Docsrting\n",
    "def a():\n",
    "    '''This is a guide'''\n",
    "    print(\"a is a function\")"
   ]
  },
  {
   "cell_type": "code",
   "execution_count": 79,
   "id": "734254b7",
   "metadata": {},
   "outputs": [
    {
     "name": "stdout",
     "output_type": "stream",
     "text": [
      "a is a function\n"
     ]
    }
   ],
   "source": [
    "a()#shift +Tab"
   ]
  },
  {
   "cell_type": "code",
   "execution_count": 81,
   "id": "ba66afa5",
   "metadata": {},
   "outputs": [
    {
     "name": "stdout",
     "output_type": "stream",
     "text": [
      "a is a function\n",
      "None\n"
     ]
    }
   ],
   "source": [
    "print(a().__doc__)  #use __doc__ methos to print docstirng"
   ]
  },
  {
   "cell_type": "code",
   "execution_count": 1,
   "id": "fc4e8430",
   "metadata": {},
   "outputs": [],
   "source": [
    "#A function that get abcd and then print abbcccdddd"
   ]
  },
  {
   "cell_type": "code",
   "execution_count": 8,
   "id": "6d09ed36",
   "metadata": {},
   "outputs": [],
   "source": [
    "def specialmultiple(string):\n",
    "    result=''\n",
    "    for idx,char in enumerate(string):\n",
    "       # print(idx+1,char)\n",
    "        result+=char*(idx+1)\n",
    "    return result"
   ]
  },
  {
   "cell_type": "code",
   "execution_count": 9,
   "id": "d71733d7",
   "metadata": {},
   "outputs": [
    {
     "name": "stdout",
     "output_type": "stream",
     "text": [
      "abbcccdddd\n"
     ]
    }
   ],
   "source": [
    "print(specialmultiple('abcd'))"
   ]
  },
  {
   "cell_type": "code",
   "execution_count": 10,
   "id": "e6cb3959",
   "metadata": {},
   "outputs": [],
   "source": [
    "#Find max 4 number using function"
   ]
  },
  {
   "cell_type": "code",
   "execution_count": 11,
   "id": "dc16bdbe",
   "metadata": {},
   "outputs": [],
   "source": [
    "def my_max2(a,b):\n",
    "    if a>b:\n",
    "        return a\n",
    "    return b\n",
    "\n",
    "def my_max3(a,b,c):\n",
    "    return my_max2(a,my_max2(b,c))\n",
    "\n",
    "def my_max4(a,b,c,d):\n",
    "    return my_max2(a,my_max3(b,c,d))\n"
   ]
  },
  {
   "cell_type": "code",
   "execution_count": 12,
   "id": "d1c7422d",
   "metadata": {},
   "outputs": [
    {
     "data": {
      "text/plain": [
       "6"
      ]
     },
     "execution_count": 12,
     "metadata": {},
     "output_type": "execute_result"
    }
   ],
   "source": [
    "my_max4(5,3,2,6)"
   ]
  },
  {
   "cell_type": "code",
   "execution_count": null,
   "id": "25978aaf",
   "metadata": {},
   "outputs": [],
   "source": []
  }
 ],
 "metadata": {
  "kernelspec": {
   "display_name": "Python 3 (ipykernel)",
   "language": "python",
   "name": "python3"
  },
  "language_info": {
   "codemirror_mode": {
    "name": "ipython",
    "version": 3
   },
   "file_extension": ".py",
   "mimetype": "text/x-python",
   "name": "python",
   "nbconvert_exporter": "python",
   "pygments_lexer": "ipython3",
   "version": "3.9.12"
  }
 },
 "nbformat": 4,
 "nbformat_minor": 5
}
